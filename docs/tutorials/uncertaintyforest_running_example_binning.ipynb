{
 "cells": [
  {
   "cell_type": "markdown",
   "metadata": {},
   "source": [
    "# How to Run UncertaintyForest\n",
    "\n",
    "This set of four tutorials (`uncertaintyforest_running_example.ipynb`, `uncertaintyforest_posteriorestimates.ipynb`, `uncertaintyforest_conditionalentropyestimates.ipynb`, and `uncertaintyforest_mutualinformationestimates.ipynb`) will explain the UncertaintyForest class. After following these tutorials, you should have the ability to run UncertaintyForest on your own machine and generate Figures 1, 2, and 3 from [this paper](https://arxiv.org/pdf/1907.00325.pdf), which help you to visualize a comparison of the estimated posteriors and conditional entropy values for several different algorithms.\n",
    "\n",
    "If you haven't seen it already, take a look at other tutorials to setup and install the ProgLearn package: `installation_guide.ipynb`.\n",
    "\n",
    "*Goal: Train the UncertaintyForest classifier on some training data and produce a metric of accuracy on some test data*"
   ]
  },
  {
   "cell_type": "markdown",
   "metadata": {},
   "source": [
    "## Import required packages and set parameters for the forest "
   ]
  },
  {
   "cell_type": "code",
   "execution_count": 1,
   "metadata": {},
   "outputs": [],
   "source": [
    "from proglearn.forest import UncertaintyForest\n",
    "from proglearn.sims import generate_gaussian_parity"
   ]
  },
  {
   "cell_type": "code",
   "execution_count": 2,
   "metadata": {},
   "outputs": [],
   "source": [
    "# Real Params.\n",
    "n_train = 50000 # number of training data points\n",
    "n_test = 1000 # number of testing data points\n",
    "num_trials = 10 # number of trials\n",
    "n_estimators = 100 # number of estimators"
   ]
  },
  {
   "cell_type": "markdown",
   "metadata": {},
   "source": [
    "#### We've done a lot. Can we just run it now? Yes!"
   ]
  },
  {
   "cell_type": "markdown",
   "metadata": {},
   "source": [
    "## Create and train our UncertaintyForest \n",
    "First, generate our data:"
   ]
  },
  {
   "cell_type": "code",
   "execution_count": 3,
   "metadata": {},
   "outputs": [],
   "source": [
    "X, y = generate_gaussian_parity(n_train+n_test)"
   ]
  },
  {
   "cell_type": "markdown",
   "metadata": {},
   "source": [
    "Now, split that data into training and testing data. We don't want to accidently train on our test data."
   ]
  },
  {
   "cell_type": "code",
   "execution_count": 4,
   "metadata": {},
   "outputs": [],
   "source": [
    "X_train = X[0:n_train] # Takes the first n_train number of data points and saves as X_train\n",
    "y_train = y[0:n_train] # same as above for the labels\n",
    "X_test = X[n_train:] # Takes the remainder of the data (n_test data points) and saves as X_test\n",
    "y_test = y[n_train:] # same as above for the labels"
   ]
  },
  {
   "cell_type": "code",
   "execution_count": 5,
   "metadata": {},
   "outputs": [],
   "source": [
    "import numpy as np\n",
    "import math\n",
    "from sklearn.preprocessing import KBinsDiscretizer\n",
    "\n",
    "def KBinsDiscretize(data_x, n_bins=0, alpha=3.322, encode=\"ordinal\", strategy=\"uniform\"):\n",
    "    \"\"\"\n",
    "        \n",
    "    \"\"\"\n",
    "   # Makes n_bins optional, calculates optimal n_bins by default\n",
    "   # Sturges Rule - num_bins = 1 + 3.322 * log_10(num_inputs)\n",
    "    if n_bins == 0:\n",
    "        # cap bins at 256\n",
    "        n_bins = min(math.floor(1 + alpha * math.log10(data_x.shape[0])), 256)\n",
    "\n",
    "    kbins = KBinsDiscretizer(n_bins, encode='ordinal', strategy='uniform')\n",
    "    kbins.fit(data_x)\n",
    "    binned_x = kbins.transform(data_x)\n",
    "    return binned_x"
   ]
  },
  {
   "cell_type": "code",
   "execution_count": 23,
   "metadata": {},
   "outputs": [],
   "source": [
    "X_train_binned = []\n",
    "for n_bins in range(0, n_train, 1000):\n",
    "    X_train_binned.append(KBinsDiscretize(X_train, n_bins))"
   ]
  },
  {
   "cell_type": "markdown",
   "metadata": {},
   "source": [
    "Then, create our forest:"
   ]
  },
  {
   "cell_type": "code",
   "execution_count": null,
   "metadata": {},
   "outputs": [],
   "source": []
  },
  {
   "cell_type": "markdown",
   "metadata": {},
   "source": [
    "Then fit our learner:"
   ]
  },
  {
   "cell_type": "code",
   "execution_count": 24,
   "metadata": {},
   "outputs": [
    {
     "name": "stdout",
     "output_type": "stream",
     "text": [
      "Training UF 1 of 50\n",
      "Training UF 2 of 50\n",
      "Training UF 3 of 50\n",
      "Training UF 4 of 50\n",
      "Training UF 5 of 50\n",
      "Training UF 6 of 50\n",
      "Training UF 7 of 50\n",
      "Training UF 8 of 50\n",
      "Training UF 9 of 50\n",
      "Training UF 10 of 50\n",
      "Training UF 11 of 50\n",
      "Training UF 12 of 50\n",
      "Training UF 13 of 50\n",
      "Training UF 14 of 50\n",
      "Training UF 15 of 50\n",
      "Training UF 16 of 50\n",
      "Training UF 17 of 50\n",
      "Training UF 18 of 50\n",
      "Training UF 19 of 50\n",
      "Training UF 20 of 50\n",
      "Training UF 21 of 50\n",
      "Training UF 22 of 50\n",
      "Training UF 23 of 50\n",
      "Training UF 24 of 50\n",
      "Training UF 25 of 50\n",
      "Training UF 26 of 50\n",
      "Training UF 27 of 50\n",
      "Training UF 28 of 50\n",
      "Training UF 29 of 50\n",
      "Training UF 30 of 50\n",
      "Training UF 31 of 50\n",
      "Training UF 32 of 50\n",
      "Training UF 33 of 50\n",
      "Training UF 34 of 50\n",
      "Training UF 35 of 50\n",
      "Training UF 36 of 50\n",
      "Training UF 37 of 50\n",
      "Training UF 38 of 50\n",
      "Training UF 39 of 50\n",
      "Training UF 40 of 50\n",
      "Training UF 41 of 50\n",
      "Training UF 42 of 50\n",
      "Training UF 43 of 50\n",
      "Training UF 44 of 50\n",
      "Training UF 45 of 50\n",
      "Training UF 46 of 50\n",
      "Training UF 47 of 50\n",
      "Training UF 48 of 50\n",
      "Training UF 49 of 50\n",
      "Training UF 50 of 50\n"
     ]
    }
   ],
   "source": [
    "import timeit\n",
    "    \n",
    "    \n",
    "bins = 1000\n",
    "count = 0\n",
    "x_bins = []\n",
    "UF_binned = []\n",
    "training_times = []\n",
    "for x in X_train_binned:\n",
    "    UF = UncertaintyForest(n_estimators = n_estimators)\n",
    "    starttime = timeit.default_timer()\n",
    "    UF_binned.append(UF.fit(x, y_train))\n",
    "    x_bins.append(bins)\n",
    "    training_times.append(timeit.default_timer() - starttime)\n",
    "    bins += 1000\n",
    "    count += 1\n",
    "    print(\"Training UF \" + str(count) + \" of \" + str(len(X_train_binned)))\n"
   ]
  },
  {
   "cell_type": "code",
   "execution_count": 26,
   "metadata": {
    "scrolled": true
   },
   "outputs": [
    {
     "data": {
      "image/png": "[encoded data removed]",
      "text/plain": [
       "<Figure size 432x288 with 1 Axes>"
      ]
     },
     "metadata": {
      "needs_background": "light"
     },
     "output_type": "display_data"
    }
   ],
   "source": [
    "import matplotlib.pyplot as plt\n",
    "plt.figure()\n",
    "plt.plot(x_bins, training_times)\n",
    "plt.xlabel(\"Number of bins\")\n",
    "plt.ylabel(\"Training time\")\n",
    "plt.show()"
   ]
  },
  {
   "cell_type": "markdown",
   "metadata": {},
   "source": [
    "Well, we're done. Exciting right?"
   ]
  },
  {
   "cell_type": "markdown",
   "metadata": {},
   "source": [
    "## Produce a metric of accuracy for our learner\n",
    "We've now created our learner and trained it. But to actually show if what we did is effective at predicting the class labels of the data, we'll create some test data (with the same distribution as the train data) and see if we classify it correctly."
   ]
  },
  {
   "cell_type": "code",
   "execution_count": 20,
   "metadata": {},
   "outputs": [
    {
     "name": "stdout",
     "output_type": "stream",
     "text": [
      "<proglearn.progressive_learner.ClassificationProgressiveLearner object at 0x000002287DF7B9A0>\n",
      "<proglearn.progressive_learner.ClassificationProgressiveLearner object at 0x000002287DF7B6A0>\n",
      "<proglearn.progressive_learner.ClassificationProgressiveLearner object at 0x000002287DF7B640>\n",
      "<proglearn.progressive_learner.ClassificationProgressiveLearner object at 0x000002287DF7B8B0>\n",
      "<proglearn.progressive_learner.ClassificationProgressiveLearner object at 0x00000228000FA7C0>\n",
      "<proglearn.progressive_learner.ClassificationProgressiveLearner object at 0x0000022803D60790>\n",
      "<proglearn.progressive_learner.ClassificationProgressiveLearner object at 0x0000022808BEB0A0>\n",
      "<proglearn.progressive_learner.ClassificationProgressiveLearner object at 0x000002280CA16070>\n",
      "<proglearn.progressive_learner.ClassificationProgressiveLearner object at 0x000002281081E0A0>\n",
      "<proglearn.progressive_learner.ClassificationProgressiveLearner object at 0x00000228145F6040>\n",
      "<proglearn.progressive_learner.ClassificationProgressiveLearner object at 0x00000228183CA070>\n",
      "<proglearn.progressive_learner.ClassificationProgressiveLearner object at 0x000002281C1820A0>\n",
      "<proglearn.progressive_learner.ClassificationProgressiveLearner object at 0x000002281EF3F070>\n",
      "<proglearn.progressive_learner.ClassificationProgressiveLearner object at 0x0000022822CB6070>\n",
      "<proglearn.progressive_learner.ClassificationProgressiveLearner object at 0x0000022826A0B0A0>\n",
      "<proglearn.progressive_learner.ClassificationProgressiveLearner object at 0x000002282A793070>\n",
      "<proglearn.progressive_learner.ClassificationProgressiveLearner object at 0x000002282E5050D0>\n",
      "<proglearn.progressive_learner.ClassificationProgressiveLearner object at 0x0000022832255070>\n",
      "<proglearn.progressive_learner.ClassificationProgressiveLearner object at 0x0000022835F8D070>\n",
      "<proglearn.progressive_learner.ClassificationProgressiveLearner object at 0x0000022839CF00A0>\n",
      "<proglearn.progressive_learner.ClassificationProgressiveLearner object at 0x000002283DA2C040>\n",
      "<proglearn.progressive_learner.ClassificationProgressiveLearner object at 0x0000022841793070>\n",
      "<proglearn.progressive_learner.ClassificationProgressiveLearner object at 0x00000228444EC070>\n",
      "<proglearn.progressive_learner.ClassificationProgressiveLearner object at 0x000002284824D070>\n",
      "<proglearn.progressive_learner.ClassificationProgressiveLearner object at 0x000002284BF660A0>\n"
     ]
    }
   ],
   "source": [
    "X_test, y_test = generate_gaussian_parity(n_test) # creates the test data\n",
    "accuracies = []\n",
    "for forest in UF_binned:\n",
    "    predictions = forest.predict(X_test, task_id=0)\n",
    "    accuracy = sum(predictions == y_test)/n_test\n",
    "    accuracies.append(accuracy)"
   ]
  },
  {
   "cell_type": "code",
   "execution_count": 16,
   "metadata": {
    "scrolled": true
   },
   "outputs": [],
   "source": [
    "predictions_binned = []\n",
    "accuracy_binned = []\n",
    "for x in UF_binned:\n",
    "    X_test, y_test = generate_gaussian_parity(n_test) # creates the test data\n",
    "    predictions = x.predict(X_test, task_id=0) # predict the class labels of the test data\n",
    "    accuracy = sum(predictions == y_test)/n_test\n",
    "    accuracy_binned.append(accuracy)\n"
   ]
  },
  {
   "cell_type": "code",
   "execution_count": 22,
   "metadata": {},
   "outputs": [
    {
     "name": "stdout",
     "output_type": "stream",
     "text": [
      "[0.5, 0.497, 0.495, 0.485, 0.513, 0.479, 0.5, 0.494, 0.502, 0.512, 0.492, 0.493, 0.492, 0.51, 0.493, 0.507, 0.519, 0.504, 0.512, 0.504, 0.504, 0.516, 0.514, 0.496, 0.528]\n"
     ]
    },
    {
     "data": {
      "text/plain": [
       "[<matplotlib.lines.Line2D at 0x2285e1803a0>]"
      ]
     },
     "execution_count": 22,
     "metadata": {},
     "output_type": "execute_result"
    },
    {
     "data": {
      "image/png": "[encoded data removed]",
      "text/plain": [
       "<Figure size 432x288 with 1 Axes>"
      ]
     },
     "metadata": {
      "needs_background": "light"
     },
     "output_type": "display_data"
    }
   ],
   "source": [
    "print(accuracy_binned)\n",
    "plt.plot(x_bins, accuracy_binned)"
   ]
  },
  {
   "cell_type": "markdown",
   "metadata": {},
   "source": [
    "To see the learner's accuracy, we'll now compare the predictions with the actual test data labels. We'll find the number correct and divide by the number of data."
   ]
  },
  {
   "cell_type": "code",
   "execution_count": 21,
   "metadata": {},
   "outputs": [],
   "source": [
    "predictions = UF_binned[1].predict(X_test, task_id=0) # predict the class labels of the test data\n",
    "accuracy = sum(predictions == y_test)/n_test"
   ]
  },
  {
   "cell_type": "markdown",
   "metadata": {},
   "source": [
    "And, let's take a look at our accuracy:"
   ]
  },
  {
   "cell_type": "code",
   "execution_count": 19,
   "metadata": {},
   "outputs": [
    {
     "name": "stdout",
     "output_type": "stream",
     "text": [
      "0.528\n"
     ]
    }
   ],
   "source": [
    "print(accuracy)\n"
   ]
  },
  {
   "cell_type": "markdown",
   "metadata": {},
   "source": [
    "Ta-da. That's an uncertainty forest at work. \n"
   ]
  },
  {
   "cell_type": "markdown",
   "metadata": {},
   "source": [
    "## What's next?\n",
    "\n",
    "See metrics on the power of UncertaintyForest by generating Figures 1 and 2 from [this paper](https://arxiv.org/pdf/1907.00325.pdf).\n",
    "\n",
    "To do this, check out `uncertaintyforest_fig1.ipynb` and `uncertaintyforest_fig2.ipynb`."
   ]
  }
 ],
 "metadata": {
  "kernelspec": {
   "display_name": "Python 3",
   "language": "python",
   "name": "python3"
  },
  "language_info": {
   "codemirror_mode": {
    "name": "ipython",
    "version": 3
   },
   "file_extension": ".py",
   "mimetype": "text/x-python",
   "name": "python",
   "nbconvert_exporter": "python",
   "pygments_lexer": "ipython3",
   "version": "3.8.5"
  }
 },
 "nbformat": 4,
 "nbformat_minor": 4
}
