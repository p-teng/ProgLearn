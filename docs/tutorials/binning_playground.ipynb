{
 "cells": [
  {
   "cell_type": "code",
   "execution_count": null,
   "id": "usual-satin",
   "metadata": {},
   "outputs": [],
   "source": [
    "# 2-dimensional opt binning\n",
    "import pandas as pd\n",
    "from sklearn.datasets import load_breast_cancer\n",
    "\n",
    "data = load_breast_cancer()\n",
    "df = pd.DataFrame(data.data, columns=data.feature_names)\n",
    "\n",
    "variable = \"mean radius\"\n",
    "x = df[variable].values\n",
    "y = data.target\n",
    "\n",
    "from optbinning import OptimalBinning\n",
    "optb = OptimalBinning(name=variable, dtype=\"numerical\", solver=\"cp\")\n",
    "optb.fit(x, y)\n",
    "\n",
    "optb.binning_table.build()"
   ]
  },
  {
   "cell_type": "code",
   "execution_count": null,
   "id": "british-reader",
   "metadata": {},
   "outputs": [],
   "source": [
    "#Continuous optbinning\n",
    "from sklearn.datasets import fetch_california_housing\n",
    "from sklearn.linear_model import HuberRegressor\n",
    "\n",
    "from optbinning import BinningProcess\n",
    "from optbinning import Scorecard\n",
    "\n",
    "data = fetch_california_housing()\n",
    "\n",
    "target = \"target\"\n",
    "variable_names = data.feature_names\n",
    "df = pd.DataFrame(data.data, columns=variable_names)\n",
    "df[target] = data.target\n",
    "\n",
    "binning_process = BinningProcess(variable_names)\n",
    "\n",
    "estimator = HuberRegressor(max_iter=200)\n",
    "\n",
    "scorecard = Scorecard(binning_process=binning_process, target=target,\n",
    "                      estimator=estimator, scaling_method=\"min_max\",\n",
    "                      scaling_method_params={\"min\": 0, \"max\": 100},\n",
    "                      reverse_scorecard=True)\n",
    "\n",
    "scorecard.fit(df)\n",
    "scorecard.information(print_level=2)\n",
    "score = scorecard.score(df)\n",
    "y_pred = scorecard.predict(df)"
   ]
  },
  {
   "cell_type": "code",
   "execution_count": null,
   "id": "latter-wyoming",
   "metadata": {},
   "outputs": [],
   "source": []
  }
 ],
 "metadata": {
  "kernelspec": {
   "display_name": "Python 3",
   "language": "python",
   "name": "python3"
  },
  "language_info": {
   "codemirror_mode": {
    "name": "ipython",
    "version": 3
   },
   "file_extension": ".py",
   "mimetype": "text/x-python",
   "name": "python",
   "nbconvert_exporter": "python",
   "pygments_lexer": "ipython3",
   "version": "3.8.5"
  }
 },
 "nbformat": 4,
 "nbformat_minor": 5
}
